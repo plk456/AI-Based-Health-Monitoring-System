{
  "cells": [
    {
      "cell_type": "code",
      "execution_count": null,
      "metadata": {
        "colab": {
          "background_save": true
        },
        "id": "x8-U6CN6sDKh"
      },
      "outputs": [],
      "source": [
        "import pandas as pd\n",
        "import numpy as np\n",
        "from sklearn.preprocessing import LabelEncoder, StandardScaler\n",
        "from sklearn.model_selection import train_test_split\n",
        "from sklearn.impute import SimpleImputer\n",
        "from sklearn.linear_model import LogisticRegression\n",
        "from sklearn.tree import DecisionTreeClassifier\n",
        "from sklearn.ensemble import RandomForestClassifier\n",
        "from sklearn.neighbors import KNeighborsClassifier\n",
        "from sklearn.svm import SVC\n",
        "import xgboost as xgb\n",
        "import lightgbm as lgb\n",
        "from sklearn.metrics import roc_curve, auc, RocCurveDisplay, accuracy_score, f1_score\n",
        "from imblearn.pipeline import Pipeline\n",
        "from sklearn.compose import ColumnTransformer\n",
        "from imblearn.over_sampling import SMOTE\n",
        "import matplotlib.pyplot as plt\n",
        "import seaborn as sns\n",
        "import joblib"
      ]
    },
    {
      "cell_type": "markdown",
      "metadata": {
        "id": "4Sz3hbDBuvmF"
      },
      "source": [
        "#Importing the csv file"
      ]
    },
    {
      "cell_type": "code",
      "execution_count": null,
      "metadata": {
        "id": "zJFFh8IFsMg9"
      },
      "outputs": [],
      "source": [
        "n=pd.read_csv('/content/drive/MyDrive/heart.csv')"
      ]
    },
    {
      "cell_type": "code",
      "execution_count": null,
      "metadata": {
        "colab": {
          "base_uri": "https://localhost:8080/"
        },
        "id": "HSXfo0RW0CwY",
        "outputId": "aeca6e17-fac9-41d8-8e5b-4139e0ba2318"
      },
      "outputs": [
        {
          "name": "stdout",
          "output_type": "stream",
          "text": [
            "     Age Sex ChestPainType  RestingBP  Cholesterol  FastingBS RestingECG  \\\n",
            "0     40   M           ATA        140          289          0     Normal   \n",
            "1     49   F           NAP        160          180          0     Normal   \n",
            "2     37   M           ATA        130          283          0         ST   \n",
            "3     48   F           ASY        138          214          0     Normal   \n",
            "4     54   M           NAP        150          195          0     Normal   \n",
            "..   ...  ..           ...        ...          ...        ...        ...   \n",
            "913   45   M            TA        110          264          0     Normal   \n",
            "914   68   M           ASY        144          193          1     Normal   \n",
            "915   57   M           ASY        130          131          0     Normal   \n",
            "916   57   F           ATA        130          236          0        LVH   \n",
            "917   38   M           NAP        138          175          0     Normal   \n",
            "\n",
            "     MaxHR ExerciseAngina  Oldpeak ST_Slope  \n",
            "0      172              N      0.0       Up  \n",
            "1      156              N      1.0     Flat  \n",
            "2       98              N      0.0       Up  \n",
            "3      108              Y      1.5     Flat  \n",
            "4      122              N      0.0       Up  \n",
            "..     ...            ...      ...      ...  \n",
            "913    132              N      1.2     Flat  \n",
            "914    141              N      3.4     Flat  \n",
            "915    115              Y      1.2     Flat  \n",
            "916    174              N      0.0     Flat  \n",
            "917    173              N      0.0       Up  \n",
            "\n",
            "[918 rows x 11 columns]\n"
          ]
        }
      ],
      "source": [
        "print(n)"
      ]
    },
    {
      "cell_type": "markdown",
      "metadata": {
        "id": "mKkW3dhat2YH"
      },
      "source": []
    },
    {
      "cell_type": "markdown",
      "metadata": {
        "id": "rR31vRxTBZjc"
      },
      "source": [
        "#Converting categorical values"
      ]
    },
    {
      "cell_type": "code",
      "execution_count": null,
      "metadata": {
        "colab": {
          "base_uri": "https://localhost:8080/"
        },
        "id": "w0Q_f4xSz_0n",
        "outputId": "200bb29e-7eef-49d1-c9d0-e8ef8ef9ac9d"
      },
      "outputs": [
        {
          "name": "stdout",
          "output_type": "stream",
          "text": [
            "     Age  Sex  ChestPainType  RestingBP  Cholesterol  FastingBS  RestingECG  \\\n",
            "0     40    1              1         41          147          0           1   \n",
            "1     49    0              2         55           40          0           1   \n",
            "2     37    1              1         31          141          0           2   \n",
            "3     48    0              0         39           72          0           1   \n",
            "4     54    1              2         49           53          0           1   \n",
            "..   ...  ...            ...        ...          ...        ...         ...   \n",
            "913   45    1              3         14          122          0           1   \n",
            "914   68    1              0         45           51          1           1   \n",
            "915   57    1              0         31            9          0           1   \n",
            "916   57    0              1         31           94          0           0   \n",
            "917   38    1              2         39           35          0           1   \n",
            "\n",
            "     MaxHR  ExerciseAngina  Oldpeak  ST_Slope  HeartDisease  \n",
            "0       98               0      0.0         2             0  \n",
            "1       82               0      1.0         1             1  \n",
            "2       25               0      0.0         2             0  \n",
            "3       34               1      1.5         1             1  \n",
            "4       48               0      0.0         2             0  \n",
            "..     ...             ...      ...       ...           ...  \n",
            "913     58               0      1.2         1             1  \n",
            "914     67               0      3.4         1             1  \n",
            "915     41               1      1.2         1             1  \n",
            "916    100               0      0.0         1             1  \n",
            "917     99               0      0.0         2             0  \n",
            "\n",
            "[918 rows x 12 columns]\n"
          ]
        }
      ],
      "source": [
        "le_Sex=LabelEncoder()\n",
        "le_ChestPainType=LabelEncoder()\n",
        "le_RestingECG=LabelEncoder()\n",
        "le_ExerciseAngina=LabelEncoder()\n",
        "le_ST_Slope=LabelEncoder()\n",
        "n['Sex']=le_Sex.fit_transform(n['Sex'])\n",
        "n['ChestPainType']=le_ChestPainType.fit_transform(n['ChestPainType'])\n",
        "n['RestingECG']=le_RestingECG.fit_transform(n['RestingECG'])\n",
        "n['ExerciseAngina']=le_ExerciseAngina.fit_transform(n['ExerciseAngina'])\n",
        "n['ST_Slope']=le_ST_Slope.fit_transform(n['ST_Slope'])\n",
        "print(n)"
      ]
    },
    {
      "cell_type": "markdown",
      "metadata": {
        "id": "otm6JQGW5VCd"
      },
      "source": [
        "we need to see for missing values"
      ]
    },
    {
      "cell_type": "code",
      "execution_count": null,
      "metadata": {
        "colab": {
          "base_uri": "https://localhost:8080/"
        },
        "id": "0bEYzlr41a75",
        "outputId": "beed224d-70b9-4262-c3a7-ac56a0e60bd5"
      },
      "outputs": [
        {
          "name": "stdout",
          "output_type": "stream",
          "text": [
            "Age               0\n",
            "Sex               0\n",
            "ChestPainType     0\n",
            "RestingBP         0\n",
            "Cholesterol       0\n",
            "FastingBS         0\n",
            "RestingECG        0\n",
            "MaxHR             0\n",
            "ExerciseAngina    0\n",
            "Oldpeak           0\n",
            "ST_Slope          0\n",
            "HeartDisease      0\n",
            "dtype: int64\n"
          ]
        }
      ],
      "source": [
        "df=pd.DataFrame(n)\n",
        "X_missing_values=df.isna().sum()\n",
        "print(X_missing_values)"
      ]
    },
    {
      "cell_type": "markdown",
      "metadata": {
        "id": "LKCiebdM66mF"
      },
      "source": [
        "#Spliting the Dataset into training and testing"
      ]
    },
    {
      "cell_type": "code",
      "execution_count": null,
      "metadata": {
        "id": "_VIFwpEH798f"
      },
      "outputs": [],
      "source": [
        "X=n.drop(columns='HeartDisease')\n",
        "y=n['HeartDisease']"
      ]
    },
    {
      "cell_type": "code",
      "execution_count": null,
      "metadata": {
        "id": "ZkiYGK7J5suM"
      },
      "outputs": [],
      "source": [
        "X_train,X_test,y_train,y_test=train_test_split(X,y,test_size=0.2,random_state=42)"
      ]
    },
    {
      "cell_type": "code",
      "execution_count": null,
      "metadata": {
        "colab": {
          "base_uri": "https://localhost:8080/"
        },
        "id": "aV5gZewE7nV4",
        "outputId": "c0d88d1c-7091-4909-9d21-cbda9f82dc93"
      },
      "outputs": [
        {
          "name": "stdout",
          "output_type": "stream",
          "text": [
            "     Age  Sex  ChestPainType  RestingBP  Cholesterol  FastingBS  RestingECG  \\\n",
            "795   42    1              2        120          240          1           1   \n",
            "25    36    1              2        130          209          0           1   \n",
            "84    56    1              0        150          213          1           1   \n",
            "10    37    0              2        130          211          0           1   \n",
            "344   51    1              0        120            0          1           1   \n",
            "..   ...  ...            ...        ...          ...        ...         ...   \n",
            "106   48    0              0        120          254          0           2   \n",
            "270   45    1              0        120          225          0           1   \n",
            "860   60    1              0        130          253          0           1   \n",
            "435   60    1              0        152            0          0           2   \n",
            "102   40    0              0        150          392          0           1   \n",
            "\n",
            "     MaxHR  ExerciseAngina  Oldpeak  ST_Slope  \n",
            "795    194               0      0.8         0  \n",
            "25     178               0      0.0         2  \n",
            "84     125               1      1.0         1  \n",
            "10     142               0      0.0         2  \n",
            "344    104               0      0.0         1  \n",
            "..     ...             ...      ...       ...  \n",
            "106    110               0      0.0         2  \n",
            "270    140               0      0.0         2  \n",
            "860    144               1      1.4         2  \n",
            "435    118               1      0.0         2  \n",
            "102    130               0      2.0         1  \n",
            "\n",
            "[734 rows x 11 columns]\n"
          ]
        }
      ],
      "source": [
        "print(X_train)"
      ]
    },
    {
      "cell_type": "code",
      "execution_count": null,
      "metadata": {
        "colab": {
          "base_uri": "https://localhost:8080/"
        },
        "id": "2xQ1iTYB9nh4",
        "outputId": "4c571373-756b-43de-d1e2-66d8180e65ae"
      },
      "outputs": [
        {
          "name": "stdout",
          "output_type": "stream",
          "text": [
            "HeartDisease\n",
            "1    508\n",
            "0    410\n",
            "Name: count, dtype: int64\n"
          ]
        }
      ],
      "source": [
        "d=n['HeartDisease'].value_counts()\n",
        "print(d)"
      ]
    },
    {
      "cell_type": "markdown",
      "metadata": {
        "id": "h9CjhAHKALjU"
      },
      "source": [
        "#we are using SMOTE to balance the HeartDisease label"
      ]
    },
    {
      "cell_type": "code",
      "execution_count": null,
      "metadata": {
        "colab": {
          "base_uri": "https://localhost:8080/"
        },
        "id": "9TO7t5Uw-rfu",
        "outputId": "0ee6b2b0-494a-42c1-f905-c0e7278431d2"
      },
      "outputs": [
        {
          "name": "stdout",
          "output_type": "stream",
          "text": [
            "Class distribution before SMOTE: Counter({1: 401, 0: 333})\n",
            "Class distribution after SMOTE: Counter({0: 401, 1: 401})\n"
          ]
        }
      ],
      "source": [
        "from collections import Counter\n",
        "\n",
        "X_train_resample,y_train_resample=SMOTE(random_state=42).fit_resample(X_train,y_train)\n",
        "print(\"Class distribution before SMOTE:\", Counter(y_train))\n",
        "print(\"Class distribution after SMOTE:\", Counter(y_train_resample))"
      ]
    },
    {
      "cell_type": "code",
      "execution_count": null,
      "metadata": {
        "id": "4ILSTWEHAq6y"
      },
      "outputs": [],
      "source": [
        "from sklearn.preprocessing import StandardScaler\n",
        "\n",
        "scaler=StandardScaler()\n",
        "scaler_x_train=scaler.fit_transform(X_train_resample)\n",
        "scaler_x_test=scaler.fit_transform(X_test)\n"
      ]
    },
    {
      "cell_type": "code",
      "execution_count": null,
      "metadata": {
        "colab": {
          "base_uri": "https://localhost:8080/",
          "height": 356
        },
        "collapsed": true,
        "id": "1GqJ6jFVBJVw",
        "outputId": "e69cdcd0-4bb6-4a1f-ee18-768bcad5f254"
      },
      "outputs": [
        {
          "ename": "ValueError",
          "evalue": "Found input variables with inconsistent numbers of samples: [6, 802]",
          "output_type": "error",
          "traceback": [
            "\u001b[0;31m---------------------------------------------------------------------------\u001b[0m",
            "\u001b[0;31mValueError\u001b[0m                                Traceback (most recent call last)",
            "\u001b[0;32m<ipython-input-174-a7534f492615>\u001b[0m in \u001b[0;36m<cell line: 0>\u001b[0;34m()\u001b[0m\n\u001b[1;32m     73\u001b[0m \u001b[0;34m\u001b[0m\u001b[0m\n\u001b[1;32m     74\u001b[0m     \u001b[0;31m# Calculate accuracy and F1 score\u001b[0m\u001b[0;34m\u001b[0m\u001b[0;34m\u001b[0m\u001b[0m\n\u001b[0;32m---> 75\u001b[0;31m     \u001b[0maccuracy\u001b[0m \u001b[0;34m=\u001b[0m \u001b[0maccuracy_score\u001b[0m\u001b[0;34m(\u001b[0m\u001b[0my_bin\u001b[0m\u001b[0;34m,\u001b[0m \u001b[0my_pred\u001b[0m\u001b[0;34m)\u001b[0m\u001b[0;34m\u001b[0m\u001b[0;34m\u001b[0m\u001b[0m\n\u001b[0m\u001b[1;32m     76\u001b[0m     \u001b[0mf1\u001b[0m \u001b[0;34m=\u001b[0m \u001b[0mf1_score\u001b[0m\u001b[0;34m(\u001b[0m\u001b[0my_bin\u001b[0m\u001b[0;34m,\u001b[0m \u001b[0my_pred\u001b[0m\u001b[0;34m,\u001b[0m \u001b[0maverage\u001b[0m\u001b[0;34m=\u001b[0m\u001b[0;34m'macro'\u001b[0m\u001b[0;34m)\u001b[0m\u001b[0;34m\u001b[0m\u001b[0;34m\u001b[0m\u001b[0m\n\u001b[1;32m     77\u001b[0m \u001b[0;34m\u001b[0m\u001b[0m\n",
            "\u001b[0;32m/usr/local/lib/python3.11/dist-packages/sklearn/utils/_param_validation.py\u001b[0m in \u001b[0;36mwrapper\u001b[0;34m(*args, **kwargs)\u001b[0m\n\u001b[1;32m    214\u001b[0m                     )\n\u001b[1;32m    215\u001b[0m                 ):\n\u001b[0;32m--> 216\u001b[0;31m                     \u001b[0;32mreturn\u001b[0m \u001b[0mfunc\u001b[0m\u001b[0;34m(\u001b[0m\u001b[0;34m*\u001b[0m\u001b[0margs\u001b[0m\u001b[0;34m,\u001b[0m \u001b[0;34m**\u001b[0m\u001b[0mkwargs\u001b[0m\u001b[0;34m)\u001b[0m\u001b[0;34m\u001b[0m\u001b[0;34m\u001b[0m\u001b[0m\n\u001b[0m\u001b[1;32m    217\u001b[0m             \u001b[0;32mexcept\u001b[0m \u001b[0mInvalidParameterError\u001b[0m \u001b[0;32mas\u001b[0m \u001b[0me\u001b[0m\u001b[0;34m:\u001b[0m\u001b[0;34m\u001b[0m\u001b[0;34m\u001b[0m\u001b[0m\n\u001b[1;32m    218\u001b[0m                 \u001b[0;31m# When the function is just a wrapper around an estimator, we allow\u001b[0m\u001b[0;34m\u001b[0m\u001b[0;34m\u001b[0m\u001b[0m\n",
            "\u001b[0;32m/usr/local/lib/python3.11/dist-packages/sklearn/metrics/_classification.py\u001b[0m in \u001b[0;36maccuracy_score\u001b[0;34m(y_true, y_pred, normalize, sample_weight)\u001b[0m\n\u001b[1;32m    225\u001b[0m     \u001b[0;31m# Compute accuracy for each possible representation\u001b[0m\u001b[0;34m\u001b[0m\u001b[0;34m\u001b[0m\u001b[0m\n\u001b[1;32m    226\u001b[0m     \u001b[0my_true\u001b[0m\u001b[0;34m,\u001b[0m \u001b[0my_pred\u001b[0m \u001b[0;34m=\u001b[0m \u001b[0mattach_unique\u001b[0m\u001b[0;34m(\u001b[0m\u001b[0my_true\u001b[0m\u001b[0;34m,\u001b[0m \u001b[0my_pred\u001b[0m\u001b[0;34m)\u001b[0m\u001b[0;34m\u001b[0m\u001b[0;34m\u001b[0m\u001b[0m\n\u001b[0;32m--> 227\u001b[0;31m     \u001b[0my_type\u001b[0m\u001b[0;34m,\u001b[0m \u001b[0my_true\u001b[0m\u001b[0;34m,\u001b[0m \u001b[0my_pred\u001b[0m \u001b[0;34m=\u001b[0m \u001b[0m_check_targets\u001b[0m\u001b[0;34m(\u001b[0m\u001b[0my_true\u001b[0m\u001b[0;34m,\u001b[0m \u001b[0my_pred\u001b[0m\u001b[0;34m)\u001b[0m\u001b[0;34m\u001b[0m\u001b[0;34m\u001b[0m\u001b[0m\n\u001b[0m\u001b[1;32m    228\u001b[0m     \u001b[0mcheck_consistent_length\u001b[0m\u001b[0;34m(\u001b[0m\u001b[0my_true\u001b[0m\u001b[0;34m,\u001b[0m \u001b[0my_pred\u001b[0m\u001b[0;34m,\u001b[0m \u001b[0msample_weight\u001b[0m\u001b[0;34m)\u001b[0m\u001b[0;34m\u001b[0m\u001b[0;34m\u001b[0m\u001b[0m\n\u001b[1;32m    229\u001b[0m \u001b[0;34m\u001b[0m\u001b[0m\n",
            "\u001b[0;32m/usr/local/lib/python3.11/dist-packages/sklearn/metrics/_classification.py\u001b[0m in \u001b[0;36m_check_targets\u001b[0;34m(y_true, y_pred)\u001b[0m\n\u001b[1;32m     96\u001b[0m     \"\"\"\n\u001b[1;32m     97\u001b[0m     \u001b[0mxp\u001b[0m\u001b[0;34m,\u001b[0m \u001b[0m_\u001b[0m \u001b[0;34m=\u001b[0m \u001b[0mget_namespace\u001b[0m\u001b[0;34m(\u001b[0m\u001b[0my_true\u001b[0m\u001b[0;34m,\u001b[0m \u001b[0my_pred\u001b[0m\u001b[0;34m)\u001b[0m\u001b[0;34m\u001b[0m\u001b[0;34m\u001b[0m\u001b[0m\n\u001b[0;32m---> 98\u001b[0;31m     \u001b[0mcheck_consistent_length\u001b[0m\u001b[0;34m(\u001b[0m\u001b[0my_true\u001b[0m\u001b[0;34m,\u001b[0m \u001b[0my_pred\u001b[0m\u001b[0;34m)\u001b[0m\u001b[0;34m\u001b[0m\u001b[0;34m\u001b[0m\u001b[0m\n\u001b[0m\u001b[1;32m     99\u001b[0m     \u001b[0mtype_true\u001b[0m \u001b[0;34m=\u001b[0m \u001b[0mtype_of_target\u001b[0m\u001b[0;34m(\u001b[0m\u001b[0my_true\u001b[0m\u001b[0;34m,\u001b[0m \u001b[0minput_name\u001b[0m\u001b[0;34m=\u001b[0m\u001b[0;34m\"y_true\"\u001b[0m\u001b[0;34m)\u001b[0m\u001b[0;34m\u001b[0m\u001b[0;34m\u001b[0m\u001b[0m\n\u001b[1;32m    100\u001b[0m     \u001b[0mtype_pred\u001b[0m \u001b[0;34m=\u001b[0m \u001b[0mtype_of_target\u001b[0m\u001b[0;34m(\u001b[0m\u001b[0my_pred\u001b[0m\u001b[0;34m,\u001b[0m \u001b[0minput_name\u001b[0m\u001b[0;34m=\u001b[0m\u001b[0;34m\"y_pred\"\u001b[0m\u001b[0;34m)\u001b[0m\u001b[0;34m\u001b[0m\u001b[0;34m\u001b[0m\u001b[0m\n",
            "\u001b[0;32m/usr/local/lib/python3.11/dist-packages/sklearn/utils/validation.py\u001b[0m in \u001b[0;36mcheck_consistent_length\u001b[0;34m(*arrays)\u001b[0m\n\u001b[1;32m    473\u001b[0m     \u001b[0muniques\u001b[0m \u001b[0;34m=\u001b[0m \u001b[0mnp\u001b[0m\u001b[0;34m.\u001b[0m\u001b[0munique\u001b[0m\u001b[0;34m(\u001b[0m\u001b[0mlengths\u001b[0m\u001b[0;34m)\u001b[0m\u001b[0;34m\u001b[0m\u001b[0;34m\u001b[0m\u001b[0m\n\u001b[1;32m    474\u001b[0m     \u001b[0;32mif\u001b[0m \u001b[0mlen\u001b[0m\u001b[0;34m(\u001b[0m\u001b[0muniques\u001b[0m\u001b[0;34m)\u001b[0m \u001b[0;34m>\u001b[0m \u001b[0;36m1\u001b[0m\u001b[0;34m:\u001b[0m\u001b[0;34m\u001b[0m\u001b[0;34m\u001b[0m\u001b[0m\n\u001b[0;32m--> 475\u001b[0;31m         raise ValueError(\n\u001b[0m\u001b[1;32m    476\u001b[0m             \u001b[0;34m\"Found input variables with inconsistent numbers of samples: %r\"\u001b[0m\u001b[0;34m\u001b[0m\u001b[0;34m\u001b[0m\u001b[0m\n\u001b[1;32m    477\u001b[0m             \u001b[0;34m%\u001b[0m \u001b[0;34m[\u001b[0m\u001b[0mint\u001b[0m\u001b[0;34m(\u001b[0m\u001b[0ml\u001b[0m\u001b[0;34m)\u001b[0m \u001b[0;32mfor\u001b[0m \u001b[0ml\u001b[0m \u001b[0;32min\u001b[0m \u001b[0mlengths\u001b[0m\u001b[0;34m]\u001b[0m\u001b[0;34m\u001b[0m\u001b[0;34m\u001b[0m\u001b[0m\n",
            "\u001b[0;31mValueError\u001b[0m: Found input variables with inconsistent numbers of samples: [6, 802]"
          ]
        }
      ],
      "source": [
        "from sklearn.model_selection import GridSearchCV, StratifiedKFold\n",
        "from sklearn.metrics import roc_curve, auc, RocCurveDisplay\n",
        "from sklearn.preprocessing import label_binarize\n",
        "from sklearn.multiclass import OneVsRestClassifier\n",
        "\n",
        "models = {\n",
        "    'Logistic Regression': {\n",
        "        'model': LogisticRegression(max_iter=500),\n",
        "        'params': {\n",
        "            'C': [0.1, 1, 10],\n",
        "            'penalty': ['l1', 'l2'],\n",
        "            'solver': ['liblinear']\n",
        "        }\n",
        "    },\n",
        "    'SVM': {\n",
        "        'model': SVC(probability=True),\n",
        "        'params': {\n",
        "            'C': [0.1, 1, 10],\n",
        "            'kernel': ['linear', 'rbf'],\n",
        "            'gamma': ['scale', 'auto']\n",
        "        }\n",
        "    },\n",
        "    'Random Forest': {\n",
        "        'model': RandomForestClassifier(),\n",
        "        'params': {\n",
        "            'n_estimators': [50, 100],\n",
        "            'max_depth': [None, 10, 20],\n",
        "            'min_samples_split': [2, 5]\n",
        "        }\n",
        "    },\n",
        "    'Decision Tree': {\n",
        "        'model': DecisionTreeClassifier(),\n",
        "        'params': {\n",
        "            'max_depth': [None, 5, 10],\n",
        "            'min_samples_split': [2, 5, 10]\n",
        "        }\n",
        "    },\n",
        "    'KNN': {\n",
        "        'model': KNeighborsClassifier(),\n",
        "        'params': {\n",
        "            'n_neighbors': [3, 5, 7],\n",
        "            'weights': ['uniform', 'distance']\n",
        "        }\n",
        "    },\n",
        "    'XGBoost': {\n",
        "        'model': xgb.XGBClassifier(),\n",
        "        'params': {\n",
        "            'n_estimators': [50, 100],\n",
        "            'max_depth': [3, 6],\n",
        "            'learning_rate': [0.01, 0.1]\n",
        "        }\n",
        "    }\n",
        "}\n",
        "\n",
        "cv = StratifiedKFold(n_splits=5)\n",
        "\n",
        "y_bin = label_binarize(y, classes=[0, 1, 2])\n",
        "n_classes = y_bin.shape[1]\n",
        "\n",
        "# Store the best models and their scores\n",
        "best_models = {}\n",
        "for model_name, model_info in models.items():\n",
        "    grid_search = GridSearchCV(model_info['model'], model_info['params'], cv=cv, scoring='f1_macro')\n",
        "    grid_search.fit(scaler_x_train, y_train_resample)\n",
        "    best_models[model_name] = grid_search.best_estimator_\n",
        "\n",
        "# Evaluate the best model on the test set\n",
        "for model_name, model in best_models.items():\n",
        "    y_pred = model.predict(scaler_x_train)\n",
        "    y_pred_proba = model.predict_proba(scaler_x_test)\n",
        "\n",
        "    # Calculate accuracy and F1 score\n",
        "    accuracy = accuracy_score(y_test, y_pred)\n",
        "    f1 = f1_score(y_test, y_pred, average='macro')\n",
        "\n",
        "    print(f\"{model_name} - Accuracy: {accuracy:.4f}, F1 Score: {f1:.4f}\")\n",
        "\n",
        "    # Plot ROC curve for each class\n",
        "    fpr = {}\n",
        "    tpr = {}\n",
        "    roc_auc = {}\n",
        "\n",
        "    for i in range(n_classes):\n",
        "        fpr[i], tpr[i], _ = roc_curve(y_test[:, i], y_pred_proba[:, i])\n",
        "        roc_auc[i] = auc(fpr[i], tpr[i])\n",
        "\n",
        "    # Plotting\n",
        "    plt.figure()\n",
        "    for i in range(n_classes):\n",
        "        plt.plot(fpr[i], tpr[i], label=f'ROC curve (class {i}) (area = {roc_auc[i]:.2f})')\n",
        "\n",
        "    plt.plot([0, 1], [0, 1], 'k--')\n",
        "    plt.xlim([0.0, 1.0])\n"
      ]
    },
    {
      "cell_type": "code",
      "execution_count": null,
      "metadata": {
        "id": "cseLrbHESR7n"
      },
      "outputs": [],
      "source": [
        "models={\n",
        "    'logistic':LogisticRegression(max_iter=500),\n",
        "    'svm':SVC(kernel='rbf',C=1,gamma='auto'),\n",
        "    'randomforest':RandomForestClassifier(),\n",
        "    'Decision':DecisionTreeClassifier(),\n",
        "    'knn':KNeighborsClassifier(),\n",
        "    'xgboost':xgb.XGBClassifier(),\n",
        "    \"LightGBM\": lgb.LGBMClassifier(verbose=-1),\n",
        "}\n",
        "accuracy_scores = dict()\n",
        "f1_scores = dict()\n",
        "roc_curve_details = dict()"
      ]
    },
    {
      "cell_type": "code",
      "execution_count": null,
      "metadata": {
        "colab": {
          "base_uri": "https://localhost:8080/"
        },
        "id": "IxLGMz2vRuzZ",
        "outputId": "536dde45-32d2-4616-9fb0-d39864ade111"
      },
      "outputs": [
        {
          "name": "stderr",
          "output_type": "stream",
          "text": [
            "/usr/local/lib/python3.11/dist-packages/sklearn/utils/deprecation.py:151: FutureWarning: 'force_all_finite' was renamed to 'ensure_all_finite' in 1.6 and will be removed in 1.8.\n",
            "  warnings.warn(\n",
            "/usr/local/lib/python3.11/dist-packages/sklearn/utils/deprecation.py:151: FutureWarning: 'force_all_finite' was renamed to 'ensure_all_finite' in 1.6 and will be removed in 1.8.\n",
            "  warnings.warn(\n"
          ]
        }
      ],
      "source": [
        "for model_name,model in models.items():\n",
        "    model.fit(scaler_x_train,y_train_resample)\n",
        "    y_pred=model.predict(scaler_x_test)\n",
        "\n",
        "    accuracy_scores[model_name] = accuracy_score(y_test,y_pred) * 100\n",
        "    f1_scores[model_name] = f1_score(y_test,y_pred) * 100\n",
        "    fpr, tpr, _ = roc_curve(y_test,y_pred)\n",
        "    roc_curve_details[model_name] = {'tpr': tpr, 'fpr': fpr}"
      ]
    },
    {
      "cell_type": "code",
      "execution_count": null,
      "metadata": {
        "colab": {
          "base_uri": "https://localhost:8080/"
        },
        "id": "DsXeCCBERX4L",
        "outputId": "e3d09b96-450d-46d1-dd0f-7129dd19942f"
      },
      "outputs": [
        {
          "name": "stdout",
          "output_type": "stream",
          "text": [
            "================================================================================\n",
            "|\tModel Name\tAccuracy Score\tF1 Score\tArea Under Curve       |\n",
            "================================================================================\n",
            "|        logistic              82.61       84.00              0.83\t       |\n",
            "|           svm                87.50       89.00              0.88\t       |\n",
            "|      randomforest            86.41       88.04              0.86\t       |\n",
            "|        Decision              85.87       87.50              0.86\t       |\n",
            "|           knn                81.52       83.33              0.82\t       |\n",
            "|         xgboost              63.04       66.99              0.63\t       |\n",
            "|        LightGBM              86.41       87.80              0.87\t       |\n",
            "================================================================================\n"
          ]
        }
      ],
      "source": [
        "print(\"=\"*80)\n",
        "print(\"|\\tModel Name\\tAccuracy Score\\tF1 Score\\tArea Under Curve       |\")\n",
        "print(\"=\"*80)\n",
        "for k in accuracy_scores.keys():\n",
        "     print(f\"|{k:^25}{accuracy_scores[k]:>10.2f}{f1_scores[k]:>12.2f}{auc(roc_curve_details[k]['fpr'], roc_curve_details[k]['tpr']):>18.2f}\\t       |\")\n",
        "print(\"=\"*80)\n"
      ]
    },
    {
      "cell_type": "code",
      "execution_count": null,
      "metadata": {
        "colab": {
          "base_uri": "https://localhost:8080/",
          "height": 564
        },
        "id": "yDvTbwRtS0Oh",
        "outputId": "6500cf76-d472-44aa-8f18-2cc9fa08267b"
      },
      "outputs": [
        {
          "data": {
            "image/png": "[encoded data removed]",
            "text/plain": [
              "<Figure size 1000x600 with 1 Axes>"
            ]
          },
          "metadata": {},
          "output_type": "display_data"
        }
      ],
      "source": [
        "plt.figure(figsize=(10, 6))\n",
        "colors = ['red', 'blue', 'green', 'yellow', 'gray', 'black']\n",
        "i = 0\n",
        "for model in roc_curve_details:\n",
        "    plt.plot(roc_curve_details[model]['fpr'], roc_curve_details[model]['tpr'], color=colors[i], label=model, linewidth=2)\n",
        "    i += 1\n",
        "plt.plot([0, 1], [0, 1], color='red', linestyle=\"--\", label=\"Random Guessing\")\n",
        "plt.xlabel(\"False Positive Rate (FPR)\")\n",
        "plt.ylabel(\"True Positive Rate (TPR)\")\n",
        "plt.title(\"ROC Curve for All Classifiers\")\n",
        "plt.legend()\n",
        "plt.grid(True)\n",
        "plt.show()"
      ]
    }
  ],
  "metadata": {
    "colab": {
      "provenance": []
    },
    "kernelspec": {
      "display_name": "Python 3",
      "name": "python3"
    },
    "language_info": {
      "name": "python"
    }
  },
  "nbformat": 4,
  "nbformat_minor": 0
}